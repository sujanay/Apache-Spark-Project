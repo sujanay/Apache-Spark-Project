{
  "nbformat": 4,
  "nbformat_minor": 0,
  "metadata": {
    "colab": {
      "name": "Apache Spark.ipynb",
      "version": "0.3.2",
      "provenance": [],
      "collapsed_sections": [],
      "include_colab_link": true
    },
    "kernelspec": {
      "name": "python3",
      "display_name": "Python 3"
    }
  },
  "cells": [
    {
      "cell_type": "markdown",
      "metadata": {
        "id": "view-in-github",
        "colab_type": "text"
      },
      "source": [
        "<a href=\"https://colab.research.google.com/github/sujanay/Apache-Spark-Project/blob/master/Apache_Spark.ipynb\" target=\"_parent\"><img src=\"https://colab.research.google.com/assets/colab-badge.svg\" alt=\"Open In Colab\"/></a>"
      ]
    },
    {
      "cell_type": "markdown",
      "metadata": {
        "id": "06R49RbX4wQ0",
        "colab_type": "text"
      },
      "source": [
        "# What is Apache Spark?\n",
        "Apache Spark™ is a unified analytics engine for large-scale data processing.\n"
      ]
    },
    {
      "cell_type": "markdown",
      "metadata": {
        "id": "VGrxD_9K3kZ5",
        "colab_type": "text"
      },
      "source": [
        "# Why Apache Spark?\n",
        "1.   **Speed** [*Run workloads 100x faster.*]: Apache Spark achieves high performance for both batch and streaming data, using a state-of-the-art DAG scheduler, a query optimizer, and a physical execution engine.\n",
        "2.   **Ease of use** [*Write applications quickly in Java, Scala, Python, R, and SQL*]: Spark offers over 80 high-level operators that make it easy to build parallel apps. And you can use it interactively from the Scala, Python, R, and SQL shells.\n",
        "\n",
        "\n",
        "3.  **Generality** [*Combine SQL, streaming, and complex analytics*]: Spark powers a stack of libraries including [SQL and DataFrames](https://spark.apache.org/sql/), [MLlib](https://spark.apache.org/mllib/) for machine learning, [GraphX](https://spark.apache.org/graphx/), and [Spark Streaming](https://spark.apache.org/streaming/). You can combine these libraries seamlessly in the same application.\n",
        "4.   **Runs Everywhere** [*Spark runs on Hadoop, Apache Mesos, Kubernetes, standalone, or in the cloud. It can access diverse data sources*]: You can run Spark using its [standalone cluster mode](https://spark.apache.org/docs/latest/spark-standalone.html), on EC2, on [Hadoop YARN](https://hadoop.apache.org/docs/current/hadoop-yarn/hadoop-yarn-site/YARN.html), on [Mesos](https://mesos.apache.org/), or on [Kubernete](https://kubernetes.io/)s. Access data in [HDFS](https://hadoop.apache.org/docs/stable/hadoop-project-dist/hadoop-hdfs/HdfsUserGuide.html), [Alluxio](https://www.alluxio.org/), [Apache Cassandra](https://cassandra.apache.org/), [Apache HBase](https://hbase.apache.org/), [Apache Hive](https://hive.apache.org/), and hundreds of other data sources.\n",
        "\n",
        "\n",
        "\n"
      ]
    },
    {
      "cell_type": "markdown",
      "metadata": {
        "id": "edLjFWMD3uI3",
        "colab_type": "text"
      },
      "source": [
        "# Spark features"
      ]
    },
    {
      "cell_type": "code",
      "metadata": {
        "id": "9RKIdV0u3yyk",
        "colab_type": "code",
        "colab": {}
      },
      "source": [
        ""
      ],
      "execution_count": 0,
      "outputs": []
    },
    {
      "cell_type": "markdown",
      "metadata": {
        "id": "hMLpCs_j32kX",
        "colab_type": "text"
      },
      "source": [
        "# Spark Ecosystem"
      ]
    },
    {
      "cell_type": "code",
      "metadata": {
        "id": "pEZWjhdV36j6",
        "colab_type": "code",
        "colab": {}
      },
      "source": [
        ""
      ],
      "execution_count": 0,
      "outputs": []
    },
    {
      "cell_type": "markdown",
      "metadata": {
        "id": "xMxtwRM538vu",
        "colab_type": "text"
      },
      "source": [
        "# Examples"
      ]
    },
    {
      "cell_type": "code",
      "metadata": {
        "id": "9PFgZMLm4BL6",
        "colab_type": "code",
        "colab": {}
      },
      "source": [
        ""
      ],
      "execution_count": 0,
      "outputs": []
    },
    {
      "cell_type": "markdown",
      "metadata": {
        "id": "dTuC-gus4Bn-",
        "colab_type": "text"
      },
      "source": [
        "# Application"
      ]
    },
    {
      "cell_type": "code",
      "metadata": {
        "id": "I_PIeQY_4GWy",
        "colab_type": "code",
        "colab": {}
      },
      "source": [
        ""
      ],
      "execution_count": 0,
      "outputs": []
    }
  ]
}